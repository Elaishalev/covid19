{
 "cells": [
  {
   "cell_type": "markdown",
   "metadata": {},
   "source": [
    "# How many cases are in your county, and how bad is it in relation to other counties?\n",
    "### E. Shalev"
   ]
  },
  {
   "cell_type": "markdown",
   "metadata": {},
   "source": [
    "### Using KNN cluster analysis on the NY Times data, I divided all the counties in the US into 6 clusters based on the number of cases. New York City is its own cluster, then the rest of the country is divided into 5 more clusters. Since oneof the main problems we are facing is the overwhelming number of patients that require treatment in hospitals, it's important to know how many confirmed cases of covid19 are in each county, and how severe is it. By knowing how bad each county is doing, government can assess where they need to invest most resources.\n",
    "\n",
    "### I added a tool to allow the user enter which county, state they reside in, and find out how bad is the status of covid19 cases is there. \n",
    "\n",
    "### The results shown below were last updated on April 6th, but since the program reads the data directly from NY Times' Github, every time the code is run it reads the most updated data.\n",
    "\n",
    "##### Finally, I added another cluster analysis, without New York City, NY and Unknown, NY as they were the two outliers in the data. You can see the additional clustering at the bottom. Each cluster is colored differently, and each centroid is colored in red (this is true for the first clustering as well)."
   ]
  },
  {
   "cell_type": "code",
   "execution_count": 2,
   "metadata": {},
   "outputs": [],
   "source": [
    "from sklearn.cluster import KMeans\n",
    "import numpy as np\n",
    "import matplotlib.pyplot as plt\n",
    "import pandas as pd"
   ]
  },
  {
   "cell_type": "code",
   "execution_count": 3,
   "metadata": {},
   "outputs": [
    {
     "data": {
      "text/html": [
       "<div>\n",
       "<style scoped>\n",
       "    .dataframe tbody tr th:only-of-type {\n",
       "        vertical-align: middle;\n",
       "    }\n",
       "\n",
       "    .dataframe tbody tr th {\n",
       "        vertical-align: top;\n",
       "    }\n",
       "\n",
       "    .dataframe thead th {\n",
       "        text-align: right;\n",
       "    }\n",
       "</style>\n",
       "<table border=\"1\" class=\"dataframe\">\n",
       "  <thead>\n",
       "    <tr style=\"text-align: right;\">\n",
       "      <th></th>\n",
       "      <th>date</th>\n",
       "      <th>county</th>\n",
       "      <th>state</th>\n",
       "      <th>fips</th>\n",
       "      <th>cases</th>\n",
       "      <th>deaths</th>\n",
       "    </tr>\n",
       "  </thead>\n",
       "  <tbody>\n",
       "    <tr>\n",
       "      <td>0</td>\n",
       "      <td>2020-01-21</td>\n",
       "      <td>Snohomish</td>\n",
       "      <td>Washington</td>\n",
       "      <td>53061.0</td>\n",
       "      <td>1</td>\n",
       "      <td>0</td>\n",
       "    </tr>\n",
       "    <tr>\n",
       "      <td>1</td>\n",
       "      <td>2020-01-22</td>\n",
       "      <td>Snohomish</td>\n",
       "      <td>Washington</td>\n",
       "      <td>53061.0</td>\n",
       "      <td>1</td>\n",
       "      <td>0</td>\n",
       "    </tr>\n",
       "    <tr>\n",
       "      <td>2</td>\n",
       "      <td>2020-01-23</td>\n",
       "      <td>Snohomish</td>\n",
       "      <td>Washington</td>\n",
       "      <td>53061.0</td>\n",
       "      <td>1</td>\n",
       "      <td>0</td>\n",
       "    </tr>\n",
       "    <tr>\n",
       "      <td>3</td>\n",
       "      <td>2020-01-24</td>\n",
       "      <td>Cook</td>\n",
       "      <td>Illinois</td>\n",
       "      <td>17031.0</td>\n",
       "      <td>1</td>\n",
       "      <td>0</td>\n",
       "    </tr>\n",
       "    <tr>\n",
       "      <td>4</td>\n",
       "      <td>2020-01-24</td>\n",
       "      <td>Snohomish</td>\n",
       "      <td>Washington</td>\n",
       "      <td>53061.0</td>\n",
       "      <td>1</td>\n",
       "      <td>0</td>\n",
       "    </tr>\n",
       "    <tr>\n",
       "      <td>...</td>\n",
       "      <td>...</td>\n",
       "      <td>...</td>\n",
       "      <td>...</td>\n",
       "      <td>...</td>\n",
       "      <td>...</td>\n",
       "      <td>...</td>\n",
       "    </tr>\n",
       "    <tr>\n",
       "      <td>38192</td>\n",
       "      <td>2020-04-06</td>\n",
       "      <td>Sublette</td>\n",
       "      <td>Wyoming</td>\n",
       "      <td>56035.0</td>\n",
       "      <td>1</td>\n",
       "      <td>0</td>\n",
       "    </tr>\n",
       "    <tr>\n",
       "      <td>38193</td>\n",
       "      <td>2020-04-06</td>\n",
       "      <td>Sweetwater</td>\n",
       "      <td>Wyoming</td>\n",
       "      <td>56037.0</td>\n",
       "      <td>5</td>\n",
       "      <td>0</td>\n",
       "    </tr>\n",
       "    <tr>\n",
       "      <td>38194</td>\n",
       "      <td>2020-04-06</td>\n",
       "      <td>Teton</td>\n",
       "      <td>Wyoming</td>\n",
       "      <td>56039.0</td>\n",
       "      <td>40</td>\n",
       "      <td>0</td>\n",
       "    </tr>\n",
       "    <tr>\n",
       "      <td>38195</td>\n",
       "      <td>2020-04-06</td>\n",
       "      <td>Uinta</td>\n",
       "      <td>Wyoming</td>\n",
       "      <td>56041.0</td>\n",
       "      <td>3</td>\n",
       "      <td>0</td>\n",
       "    </tr>\n",
       "    <tr>\n",
       "      <td>38196</td>\n",
       "      <td>2020-04-06</td>\n",
       "      <td>Washakie</td>\n",
       "      <td>Wyoming</td>\n",
       "      <td>56043.0</td>\n",
       "      <td>4</td>\n",
       "      <td>0</td>\n",
       "    </tr>\n",
       "  </tbody>\n",
       "</table>\n",
       "<p>38197 rows × 6 columns</p>\n",
       "</div>"
      ],
      "text/plain": [
       "             date      county       state     fips  cases  deaths\n",
       "0      2020-01-21   Snohomish  Washington  53061.0      1       0\n",
       "1      2020-01-22   Snohomish  Washington  53061.0      1       0\n",
       "2      2020-01-23   Snohomish  Washington  53061.0      1       0\n",
       "3      2020-01-24        Cook    Illinois  17031.0      1       0\n",
       "4      2020-01-24   Snohomish  Washington  53061.0      1       0\n",
       "...           ...         ...         ...      ...    ...     ...\n",
       "38192  2020-04-06    Sublette     Wyoming  56035.0      1       0\n",
       "38193  2020-04-06  Sweetwater     Wyoming  56037.0      5       0\n",
       "38194  2020-04-06       Teton     Wyoming  56039.0     40       0\n",
       "38195  2020-04-06       Uinta     Wyoming  56041.0      3       0\n",
       "38196  2020-04-06    Washakie     Wyoming  56043.0      4       0\n",
       "\n",
       "[38197 rows x 6 columns]"
      ]
     },
     "execution_count": 3,
     "metadata": {},
     "output_type": "execute_result"
    }
   ],
   "source": [
    "# Importing NY Times' covid data by county\n",
    "covid_county = pd.read_csv('https://raw.githubusercontent.com/nytimes/covid-19-data/master/us-counties.csv')\n",
    "covid_county.to_csv('covid_county.csv')\n",
    "covid_county"
   ]
  },
  {
   "cell_type": "code",
   "execution_count": 4,
   "metadata": {},
   "outputs": [],
   "source": [
    "# Adding an attribute to include county and state in order to avoid grouping different counties with the same name\n",
    "covid_county['county_state'] = covid_county['county']+', '+covid_county['state']\n",
    "\n",
    "# Creating new dataframe to only contain the most updated number of cases and deaths by county\n",
    "counties_sum = covid_county.groupby(['county_state']).max()\n",
    "counties_sum = counties_sum.drop(counties_sum.columns[0:4], axis=1)"
   ]
  },
  {
   "cell_type": "code",
   "execution_count": 5,
   "metadata": {},
   "outputs": [
    {
     "data": {
      "image/png": "[encoded data removed]",
      "text/plain": [
       "<Figure size 432x288 with 1 Axes>"
      ]
     },
     "metadata": {
      "needs_background": "light"
     },
     "output_type": "display_data"
    }
   ],
   "source": [
    "# Plotting all counties using most updated counts of cases and deaths\n",
    "plt.scatter(counties_sum['cases'], counties_sum['deaths'])\n",
    "plt.xlabel('Cases')\n",
    "plt.ylabel('Deaths')\n",
    "plt.show()"
   ]
  },
  {
   "cell_type": "code",
   "execution_count": 6,
   "metadata": {},
   "outputs": [
    {
     "data": {
      "image/png": "[encoded data removed]",
      "text/plain": [
       "<Figure size 432x288 with 1 Axes>"
      ]
     },
     "metadata": {
      "needs_background": "light"
     },
     "output_type": "display_data"
    }
   ],
   "source": [
    "# Running cluster analysis and creating 5 clusters to categorzie all counties by level of severity\n",
    "kmeans = KMeans(n_clusters=6, random_state=5).fit(counties_sum)\n",
    "pred = kmeans.fit_predict(counties_sum)\n",
    "\n",
    "# Plotting all counties, coloring each cluster by a unique color, with a red dot showing each centroid\n",
    "plt.scatter(counties_sum['cases'], counties_sum['deaths'], c=kmeans.labels_.astype(int))\n",
    "plt.scatter(kmeans.cluster_centers_[:, 0], kmeans.cluster_centers_[:, 1], s=100, c='red')\n",
    "plt.xlabel('Cases')\n",
    "plt.ylabel('Deaths')\n",
    "plt.show()"
   ]
  },
  {
   "cell_type": "code",
   "execution_count": 7,
   "metadata": {},
   "outputs": [
    {
     "data": {
      "text/html": [
       "<div>\n",
       "<style scoped>\n",
       "    .dataframe tbody tr th:only-of-type {\n",
       "        vertical-align: middle;\n",
       "    }\n",
       "\n",
       "    .dataframe tbody tr th {\n",
       "        vertical-align: top;\n",
       "    }\n",
       "\n",
       "    .dataframe thead th {\n",
       "        text-align: right;\n",
       "    }\n",
       "</style>\n",
       "<table border=\"1\" class=\"dataframe\">\n",
       "  <thead>\n",
       "    <tr style=\"text-align: right;\">\n",
       "      <th></th>\n",
       "      <th>cases</th>\n",
       "      <th>deaths</th>\n",
       "      <th>Cluster Number</th>\n",
       "      <th>Cluster Name</th>\n",
       "    </tr>\n",
       "    <tr>\n",
       "      <th>county_state</th>\n",
       "      <th></th>\n",
       "      <th></th>\n",
       "      <th></th>\n",
       "      <th></th>\n",
       "    </tr>\n",
       "  </thead>\n",
       "  <tbody>\n",
       "    <tr>\n",
       "      <td>Abbeville, South Carolina</td>\n",
       "      <td>6</td>\n",
       "      <td>0</td>\n",
       "      <td>0</td>\n",
       "      <td>Least Worst Counties</td>\n",
       "    </tr>\n",
       "    <tr>\n",
       "      <td>Acadia, Louisiana</td>\n",
       "      <td>79</td>\n",
       "      <td>2</td>\n",
       "      <td>0</td>\n",
       "      <td>Least Worst Counties</td>\n",
       "    </tr>\n",
       "    <tr>\n",
       "      <td>Accomack, Virginia</td>\n",
       "      <td>11</td>\n",
       "      <td>0</td>\n",
       "      <td>0</td>\n",
       "      <td>Least Worst Counties</td>\n",
       "    </tr>\n",
       "    <tr>\n",
       "      <td>Ada, Idaho</td>\n",
       "      <td>419</td>\n",
       "      <td>3</td>\n",
       "      <td>0</td>\n",
       "      <td>Least Worst Counties</td>\n",
       "    </tr>\n",
       "    <tr>\n",
       "      <td>Adair, Iowa</td>\n",
       "      <td>1</td>\n",
       "      <td>0</td>\n",
       "      <td>0</td>\n",
       "      <td>Least Worst Counties</td>\n",
       "    </tr>\n",
       "    <tr>\n",
       "      <td>...</td>\n",
       "      <td>...</td>\n",
       "      <td>...</td>\n",
       "      <td>...</td>\n",
       "      <td>...</td>\n",
       "    </tr>\n",
       "    <tr>\n",
       "      <td>Yuba, California</td>\n",
       "      <td>11</td>\n",
       "      <td>0</td>\n",
       "      <td>0</td>\n",
       "      <td>Least Worst Counties</td>\n",
       "    </tr>\n",
       "    <tr>\n",
       "      <td>Yukon-Koyukuk Census Area, Alaska</td>\n",
       "      <td>1</td>\n",
       "      <td>0</td>\n",
       "      <td>0</td>\n",
       "      <td>Least Worst Counties</td>\n",
       "    </tr>\n",
       "    <tr>\n",
       "      <td>Yuma, Arizona</td>\n",
       "      <td>15</td>\n",
       "      <td>0</td>\n",
       "      <td>0</td>\n",
       "      <td>Least Worst Counties</td>\n",
       "    </tr>\n",
       "    <tr>\n",
       "      <td>Yuma, Colorado</td>\n",
       "      <td>2</td>\n",
       "      <td>0</td>\n",
       "      <td>0</td>\n",
       "      <td>Least Worst Counties</td>\n",
       "    </tr>\n",
       "    <tr>\n",
       "      <td>Zapata, Texas</td>\n",
       "      <td>1</td>\n",
       "      <td>0</td>\n",
       "      <td>0</td>\n",
       "      <td>Least Worst Counties</td>\n",
       "    </tr>\n",
       "  </tbody>\n",
       "</table>\n",
       "<p>2526 rows × 4 columns</p>\n",
       "</div>"
      ],
      "text/plain": [
       "                                   cases  deaths  Cluster Number  \\\n",
       "county_state                                                       \n",
       "Abbeville, South Carolina              6       0               0   \n",
       "Acadia, Louisiana                     79       2               0   \n",
       "Accomack, Virginia                    11       0               0   \n",
       "Ada, Idaho                           419       3               0   \n",
       "Adair, Iowa                            1       0               0   \n",
       "...                                  ...     ...             ...   \n",
       "Yuba, California                      11       0               0   \n",
       "Yukon-Koyukuk Census Area, Alaska      1       0               0   \n",
       "Yuma, Arizona                         15       0               0   \n",
       "Yuma, Colorado                         2       0               0   \n",
       "Zapata, Texas                          1       0               0   \n",
       "\n",
       "                                           Cluster Name  \n",
       "county_state                                             \n",
       "Abbeville, South Carolina          Least Worst Counties  \n",
       "Acadia, Louisiana                  Least Worst Counties  \n",
       "Accomack, Virginia                 Least Worst Counties  \n",
       "Ada, Idaho                         Least Worst Counties  \n",
       "Adair, Iowa                        Least Worst Counties  \n",
       "...                                                 ...  \n",
       "Yuba, California                   Least Worst Counties  \n",
       "Yukon-Koyukuk Census Area, Alaska  Least Worst Counties  \n",
       "Yuma, Arizona                      Least Worst Counties  \n",
       "Yuma, Colorado                     Least Worst Counties  \n",
       "Zapata, Texas                      Least Worst Counties  \n",
       "\n",
       "[2526 rows x 4 columns]"
      ]
     },
     "execution_count": 7,
     "metadata": {},
     "output_type": "execute_result"
    }
   ],
   "source": [
    "# Adding a cluster number column to the dataframe, and creating dataframes for each of the clusters\n",
    "counties_sum['Cluster Number'] = pred\n",
    "least_worst_counties = counties_sum[counties_sum['Cluster Number']==0]\n",
    "New_York_City = counties_sum[counties_sum['Cluster Number']==1]\n",
    "middle_of_the_group = counties_sum[counties_sum['Cluster Number']==2]\n",
    "worst_counties = counties_sum[counties_sum['Cluster Number']==3]\n",
    "not_so_bad = counties_sum[counties_sum['Cluster Number']==4]\n",
    "second_worst = counties_sum[counties_sum['Cluster Number']==5]\n",
    "\n",
    "# Adding a descriptive column with a name for each cluster\n",
    "counties_sum['Cluster Name'] = 'x'\n",
    "counties_sum.loc[counties_sum['Cluster Number'] == 0, 'Cluster Name'] = 'Least Worst Counties'\n",
    "counties_sum.loc[counties_sum['Cluster Number'] == 1, 'Cluster Name'] = 'New York City'\n",
    "counties_sum.loc[counties_sum['Cluster Number'] == 2, 'Cluster Name'] = 'Middle Of The Group'\n",
    "counties_sum.loc[counties_sum['Cluster Number'] == 3, 'Cluster Name'] = 'Worst Counties'\n",
    "counties_sum.loc[counties_sum['Cluster Number'] == 4, 'Cluster Name'] = 'Not So Bad Counties'\n",
    "counties_sum.loc[counties_sum['Cluster Number'] == 5, 'Cluster Name'] = 'Second Worst Counties'\n",
    "counties_sum"
   ]
  },
  {
   "cell_type": "code",
   "execution_count": 8,
   "metadata": {},
   "outputs": [
    {
     "name": "stdout",
     "output_type": "stream",
     "text": [
      "Enter your County, State to see how the level of covid19 cases: westchester, new york\n",
      "Your county is in the group of Worst Counties\n"
     ]
    }
   ],
   "source": [
    "user_county = input('Enter your County, State to see how the level of covid19 cases: ')\n",
    "user_county = user_county.title()\n",
    "print('Your county is in the group of', counties_sum.loc[user_county, 'Cluster Name'])"
   ]
  },
  {
   "cell_type": "code",
   "execution_count": 12,
   "metadata": {},
   "outputs": [
    {
     "data": {
      "image/png": "[encoded data removed]",
      "text/plain": [
       "<Figure size 432x288 with 1 Axes>"
      ]
     },
     "metadata": {
      "needs_background": "light"
     },
     "output_type": "display_data"
    }
   ],
   "source": [
    "# There are two outliers in the dataset: New York City, NY and Unknown, NY. \n",
    "# Creating another dataframe excluding the two outliers for another cluster analysis.\n",
    "counties_sum_noNYC = counties_sum.drop('New York City, New York', axis=0)\n",
    "counties_sum_noNYC = counties_sum_noNYC.drop('Unknown, New York', axis=0)\n",
    "counties_sum_noNYC = counties_sum_noNYC.iloc[:, :2]\n",
    "plt.scatter(counties_sum_noNYC['cases'], counties_sum_noNYC['deaths'])\n",
    "plt.xlabel('Cases')\n",
    "plt.ylabel('Deaths')\n",
    "plt.show()"
   ]
  },
  {
   "cell_type": "code",
   "execution_count": 18,
   "metadata": {},
   "outputs": [
    {
     "data": {
      "image/png": "[encoded data removed]",
      "text/plain": [
       "<Figure size 432x288 with 1 Axes>"
      ]
     },
     "metadata": {
      "needs_background": "light"
     },
     "output_type": "display_data"
    }
   ],
   "source": [
    "# Running cluster analysis and creating 6 clusters to categorzie all counties by level of severity\n",
    "kmeans2 = KMeans(n_clusters=6, random_state=5).fit(counties_sum_noNYC)\n",
    "pred2 = kmeans.fit_predict(counties_sum_noNYC)\n",
    "\n",
    "# Plotting all counties, coloring each cluster by a unique color, with a red dot showing each centroid\n",
    "plt.scatter(counties_sum_noNYC['cases'], counties_sum_noNYC['deaths'], c=kmeans2.labels_.astype(int))\n",
    "plt.scatter(kmeans2.cluster_centers_[:, 0], kmeans2.cluster_centers_[:, 1], s=100, c='red')\n",
    "plt.xlabel('Cases')\n",
    "plt.ylabel('Deaths')\n",
    "plt.show()"
   ]
  }
 ],
 "metadata": {
  "kernelspec": {
   "display_name": "Python 3",
   "language": "python",
   "name": "python3"
  },
  "language_info": {
   "codemirror_mode": {
    "name": "ipython",
    "version": 3
   },
   "file_extension": ".py",
   "mimetype": "text/x-python",
   "name": "python",
   "nbconvert_exporter": "python",
   "pygments_lexer": "ipython3",
   "version": "3.7.4"
  }
 },
 "nbformat": 4,
 "nbformat_minor": 2
}
